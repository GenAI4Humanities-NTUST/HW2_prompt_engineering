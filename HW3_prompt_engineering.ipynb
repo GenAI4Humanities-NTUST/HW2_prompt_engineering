# 你可以直接將作業寫在下面，或者...你可以上傳檔案

---

## 如何上傳新檔案

1. ![螢幕擷取畫面 2025-03-15 194908](https://github.com/GenAI4Humanities-NTUST/HW2_prompt_engineering/blob/main/step1.png)
    在repo的頁面選擇**add new file**

2. ![螢幕擷取畫面 2025-03-15 195243](https://github.com/GenAI4Humanities-NTUST/HW2_prompt_engineering/blob/main/step2.png)

    看你是要直接在github開一個新檔案(Create new file)，或者直接上將檔案上傳(建議上傳pdf檔案較佳)

3. ![螢幕擷取畫面 2025-03-15 195541](https://github.com/GenAI4Humanities-NTUST/HW2_prompt_engineering/blob/main/step3.png)

    千萬要記得檔案上傳完成後記得**commit change**!!
